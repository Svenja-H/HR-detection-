{
 "cells": [
  {
   "cell_type": "code",
   "execution_count": 1,
   "metadata": {},
   "outputs": [],
   "source": [
    "import numpy as np\n",
    "import pandas as pd\n",
    "import matplotlib.pyplot as plt\n",
    "from matplotlib import cm\n",
    "from matplotlib.ticker import LinearLocator"
   ]
  },
  {
   "cell_type": "code",
   "execution_count": 2,
   "metadata": {},
   "outputs": [],
   "source": [
    "# pixel average values\n",
    "df_pixelAvgValues_left=pd.read_csv('Pixel_Arr_leftCheek.csv',\";\")\n",
    "df_pixelAvgValues_right=pd.read_csv('Pixel_Arr_rightCheek.csv',\";\")\n",
    "df_pixelAvgValues_forehead=pd.read_csv('Pixel_Arr_forehead.csv',\";\")\n",
    "\n",
    "#fft Output frequencies\n",
    "df_fftOutput_l = pd.read_csv('Frequency_Arr_leftCheek.csv',\";\")\n",
    "df_fftOutput_r = pd.read_csv('Frequency_Arr_rightCheek.csv',\";\")\n",
    "df_fftOutput_f = pd.read_csv('Frequency_Arr_forehead.csv',\";\")\n",
    "\n",
    "#fft Output frequencies\n",
    "df_fftOutput_1_l = pd.read_csv('Frequency_Arr_1_leftCheek.csv',\";\")\n",
    "df_fftOutput_1_r = pd.read_csv('Frequency_Arr_1_rightCheek.csv',\";\")\n",
    "df_fftOutput_1_f = pd.read_csv('Frequency_Arr_1_forehead.csv',\";\")\n",
    "\n",
    "#fft Output frequencies\n",
    "df_fftOutput_2_l = pd.read_csv('Frequency_Arr_2_leftCheek.csv',\";\")\n",
    "df_fftOutput_2_r = pd.read_csv('Frequency_Arr_2_rightCheek.csv',\";\")\n",
    "df_fftOutput_2_f = pd.read_csv('Frequency_Arr_2_forehead.csv',\";\")\n",
    "\n",
    "\n",
    "#polar\n",
    "df_polar = pd.read_csv(\"Polar_16.10.csv\", \";\")\n"
   ]
  },
  {
   "cell_type": "code",
   "execution_count": 3,
   "metadata": {},
   "outputs": [],
   "source": [
    "#Averaging the frequencies \n",
    "\n",
    "\n",
    "data_l = df_fftOutput_l.iloc[:,1]\n",
    "data_r = df_fftOutput_r.iloc[:,1]\n",
    "data_f = df_fftOutput_f.iloc[:,1]\n",
    "\n",
    "data1_l = df_fftOutput_1_l.iloc[:,1]\n",
    "data1_r = df_fftOutput_1_r.iloc[:,1]\n",
    "data1_f = df_fftOutput_1_f.iloc[:,1]\n",
    "\n",
    "data2_l = df_fftOutput_2_l.iloc[:,1]\n",
    "data2_r = df_fftOutput_2_r.iloc[:,1]\n",
    "data2_f = df_fftOutput_2_f.iloc[:,1]\n",
    "\n",
    "\n",
    "df_frequ = df_fftOutput_l.iloc[:,0:1]\n",
    "df_frequ1 = df_fftOutput_1_l.iloc[:,0:1]\n",
    "df_frequ2 = df_fftOutput_2_l.iloc[:,0:1]\n",
    "\n",
    "data_avg = pd.concat([data_l, data_r, data_f], axis=1)\n",
    "data1_avg = pd.concat([data1_l, data1_r, data1_f], axis=1)\n",
    "data2_avg = pd.concat([data2_l, data2_r, data2_f], axis=1)\n",
    "\n",
    "median_df = data_avg.median(axis=1)\n",
    "median1_df = data1_avg.median(axis=1)\n",
    "median2_df = data2_avg.median(axis=1)\n",
    "\n",
    "df_frequ.insert(1, \"median\", median_df, True)\n",
    "df_frequ1.insert(1, \"median\", median1_df, True)\n",
    "df_frequ2.insert(1, \"median\", median2_df, True)\n",
    "\n",
    "counter_df = df_frequ[\"Count\"]\n",
    "counter1_df = df_frequ1[\"Count\"]\n",
    "counter2_df = df_frequ2[\"Count\"]\n"
   ]
  },
  {
   "cell_type": "code",
   "execution_count": 4,
   "metadata": {},
   "outputs": [],
   "source": [
    "#averaged output frequencies: df_frequ1\n",
    "#frequencies:\n",
    "#left: df_fftOutput_1_l\n",
    "#right:df_fftOutput_1_r\n",
    "#forehead: df_fftOutput_1_f"
   ]
  },
  {
   "cell_type": "code",
   "execution_count": 5,
   "metadata": {},
   "outputs": [],
   "source": [
    "zeit = df_frequ1[\"Count\"]\n",
    "frequ = df_frequ1[\"median\"]\n",
    "\n",
    "#Zeit runden\n",
    "zeit_gerundet = [round(num) for num in zeit]"
   ]
  },
  {
   "cell_type": "code",
   "execution_count": 6,
   "metadata": {},
   "outputs": [],
   "source": [
    "a=[]\n",
    "b=[]\n",
    "final =[]\n",
    "\n",
    "for i in range(len(zeit_gerundet)):\n",
    "    if i==0:\n",
    "        a = zeit_gerundet[i]\n",
    "        b.append(frequ[i])\n",
    "    if i > 0 and i < len(zeit_gerundet):\n",
    "        if zeit_gerundet[i] == zeit_gerundet[i-1]:\n",
    "            a = zeit_gerundet[i]\n",
    "            b.append(frequ[i])\n",
    "        elif zeit_gerundet[i] != zeit_gerundet[i-1]:\n",
    "            final.append([a,np.mean(b)])\n",
    "            a = zeit_gerundet[i]\n",
    "            b.clear()\n",
    "            b.append(frequ[i])\n",
    "    if i == len(zeit_gerundet)-1:\n",
    "        if zeit_gerundet[i] == zeit_gerundet[i-1]:\n",
    "            a = zeit_gerundet[i]\n",
    "            final.append([a,np.mean(b)])\n",
    "        elif zeit_gerundet[i] != zeit_gerundet[i-1]:\n",
    "            final.append([a,np.mean(b)])\n",
    "            final.append([zeit_gerundet[i], frequ[i]])\n",
    "        \n",
    "            \n",
    "#print(final)        \n"
   ]
  },
  {
   "cell_type": "code",
   "execution_count": 7,
   "metadata": {},
   "outputs": [],
   "source": [
    "df_avgfrequ = pd.DataFrame(final, columns = ['Time', 'Frequ'])\n",
    "#df_avgfrequ"
   ]
  },
  {
   "cell_type": "code",
   "execution_count": 8,
   "metadata": {},
   "outputs": [],
   "source": [
    "#export CSV\n",
    "df_avgfrequ.to_csv(r'frequ4.csv', index = False)"
   ]
  }
 ],
 "metadata": {
  "kernelspec": {
   "display_name": "Python 3",
   "language": "python",
   "name": "python3"
  },
  "language_info": {
   "codemirror_mode": {
    "name": "ipython",
    "version": 3
   },
   "file_extension": ".py",
   "mimetype": "text/x-python",
   "name": "python",
   "nbconvert_exporter": "python",
   "pygments_lexer": "ipython3",
   "version": "3.7.6"
  }
 },
 "nbformat": 4,
 "nbformat_minor": 4
}
